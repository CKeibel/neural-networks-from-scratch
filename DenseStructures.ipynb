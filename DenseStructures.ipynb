{
 "cells": [
  {
   "cell_type": "code",
   "execution_count": 1,
   "id": "0f147bc9",
   "metadata": {},
   "outputs": [],
   "source": [
    "import numpy as np"
   ]
  },
  {
   "cell_type": "markdown",
   "id": "4307672e",
   "metadata": {},
   "source": [
    "# Single Neuron"
   ]
  },
  {
   "cell_type": "code",
   "execution_count": 2,
   "id": "fd97f5e4",
   "metadata": {},
   "outputs": [],
   "source": [
    "class Neuron:\n",
    "    def __init__(self, inputs:int, bias:float = 0):\n",
    "        self.weights = np.random.rand(1, inputs) # [neurons, inputs]\n",
    "        self.bias = bias\n",
    "        \n",
    "    \n",
    "    def forward(self, inputs:np.array) -> float:\n",
    "        return np.dot(inputs, self.weights.T) + self.bias"
   ]
  },
  {
   "cell_type": "code",
   "execution_count": 3,
   "id": "1cbd119b",
   "metadata": {},
   "outputs": [
    {
     "data": {
      "text/plain": [
       "(1, 4)"
      ]
     },
     "execution_count": 3,
     "metadata": {},
     "output_type": "execute_result"
    }
   ],
   "source": [
    "n = Neuron(4)\n",
    "n.weights.shape"
   ]
  },
  {
   "cell_type": "code",
   "execution_count": 4,
   "id": "79cc125d",
   "metadata": {},
   "outputs": [
    {
     "data": {
      "text/plain": [
       "array([[[-0.21161333,  0.43732363,  0.64967487, -1.46280813]],\n",
       "\n",
       "       [[ 0.50345284,  1.72607308, -0.88208271,  1.04684912]],\n",
       "\n",
       "       [[ 0.70630965, -1.54751589, -0.29997737, -2.26351755]],\n",
       "\n",
       "       [[ 0.96120035,  0.8290234 , -1.12327137,  0.73222665]],\n",
       "\n",
       "       [[ 1.03781549, -0.68140354, -0.370326  ,  0.47988509]]])"
      ]
     },
     "execution_count": 4,
     "metadata": {},
     "output_type": "execute_result"
    }
   ],
   "source": [
    "data = np.random.randn(5, 1, 4)\n",
    "data"
   ]
  },
  {
   "cell_type": "code",
   "execution_count": 5,
   "id": "9636618d",
   "metadata": {},
   "outputs": [
    {
     "name": "stdout",
     "output_type": "stream",
     "text": [
      "1 - [[-0.02810576]]\n",
      "2 - [[1.09551174]]\n",
      "3 - [[-1.45522526]]\n",
      "4 - [[0.58193107]]\n",
      "5 - [[0.07991762]]\n"
     ]
    }
   ],
   "source": [
    "for i, x in enumerate(data):\n",
    "    print(f\"{i+1} - {n.forward(x)}\")"
   ]
  },
  {
   "cell_type": "markdown",
   "id": "7ee4411f",
   "metadata": {},
   "source": [
    "# Layers"
   ]
  },
  {
   "cell_type": "code",
   "execution_count": 6,
   "id": "0c3d8fc9",
   "metadata": {},
   "outputs": [],
   "source": [
    "class DenseLayer:\n",
    "    def __init__(self, inputs:int, neurons:int, bias:bool = True):\n",
    "        self.weights = np.random.rand(neurons, inputs)\n",
    "        self.bias = np.random.rand(neurons, 1) if bias else np.zeros((neurons, 1))\n",
    "\n",
    "        \n",
    "    def forward(self, x:np.array) -> np.array:\n",
    "        return np.dot(x, self.weights.T) + self.bias.T"
   ]
  },
  {
   "cell_type": "code",
   "execution_count": 7,
   "id": "ea6ca8b7",
   "metadata": {},
   "outputs": [
    {
     "data": {
      "text/plain": [
       "array([[0.01277534, 0.06955301, 0.91127411, 0.8136686 ],\n",
       "       [0.45378492, 0.90707179, 0.48754689, 0.5396319 ],\n",
       "       [0.06904036, 0.39138748, 0.64941738, 0.62071875],\n",
       "       [0.54780858, 0.6965424 , 0.6316497 , 0.26635174],\n",
       "       [0.56817529, 0.93100393, 0.64562375, 0.95011933]])"
      ]
     },
     "execution_count": 7,
     "metadata": {},
     "output_type": "execute_result"
    }
   ],
   "source": [
    "dl = DenseLayer(4, 5)\n",
    "dl.weights"
   ]
  },
  {
   "cell_type": "code",
   "execution_count": 8,
   "id": "a1fff12a",
   "metadata": {
    "scrolled": true
   },
   "outputs": [
    {
     "data": {
      "text/plain": [
       "array([[0.22609927],\n",
       "       [0.19710501],\n",
       "       [0.04100734],\n",
       "       [0.05485621],\n",
       "       [0.19950757]])"
      ]
     },
     "execution_count": 8,
     "metadata": {},
     "output_type": "execute_result"
    }
   ],
   "source": [
    "dl.bias"
   ]
  },
  {
   "cell_type": "code",
   "execution_count": 9,
   "id": "b8225564",
   "metadata": {},
   "outputs": [
    {
     "data": {
      "text/plain": [
       "array([[0.33303884, 0.93920101, 0.54607873, 0.953397  ],\n",
       "       [0.06459566, 0.01589727, 0.59733716, 0.82999414],\n",
       "       [0.5433925 , 0.76766405, 0.06902136, 0.85137328],\n",
       "       [0.1526616 , 0.24890199, 0.96180459, 0.96153616],\n",
       "       [0.98403053, 0.50467698, 0.77697733, 0.71932398]])"
      ]
     },
     "execution_count": 9,
     "metadata": {},
     "output_type": "execute_result"
    }
   ],
   "source": [
    "dl2 = DenseLayer(inputs=4, neurons=5, bias=False)\n",
    "dl2.weights"
   ]
  },
  {
   "cell_type": "code",
   "execution_count": 10,
   "id": "bbec7ffc",
   "metadata": {},
   "outputs": [
    {
     "data": {
      "text/plain": [
       "array([[0.],\n",
       "       [0.],\n",
       "       [0.],\n",
       "       [0.],\n",
       "       [0.]])"
      ]
     },
     "execution_count": 10,
     "metadata": {},
     "output_type": "execute_result"
    }
   ],
   "source": [
    "dl2.bias"
   ]
  },
  {
   "cell_type": "code",
   "execution_count": 11,
   "id": "91406179",
   "metadata": {
    "scrolled": true
   },
   "outputs": [
    {
     "name": "stdout",
     "output_type": "stream",
     "text": [
      "[[-0.34439615  0.02513103 -0.28852181  0.26429251 -0.48397265]]\n",
      "[[0.40055374 2.12609301 0.82828832 1.25459789 2.51767589]]\n",
      "[[-1.98762654 -2.25380965 -2.11572543 -1.42850418 -3.18421242]]\n",
      "[[-0.13177829  1.23275236  0.15687319  0.64437578  1.48795392]]\n",
      "[[ 0.24496298  0.12837811 -0.09665679  0.0426559   0.37163616]]\n"
     ]
    }
   ],
   "source": [
    "for x in data:\n",
    "    print(dl.forward(x))"
   ]
  },
  {
   "cell_type": "code",
   "execution_count": 12,
   "id": "89f606a9",
   "metadata": {},
   "outputs": [
    {
     "data": {
      "text/plain": [
       "array([[-0.34439615,  0.02513103, -0.28852181,  0.26429251, -0.48397265]])"
      ]
     },
     "execution_count": 12,
     "metadata": {},
     "output_type": "execute_result"
    }
   ],
   "source": [
    "dl.forward(data[0])"
   ]
  },
  {
   "cell_type": "code",
   "execution_count": 13,
   "id": "425317ba",
   "metadata": {},
   "outputs": [],
   "source": [
    "dl1 = DenseLayer(inputs=1, neurons=3)\n",
    "dl2 = DenseLayer(inputs=3, neurons=7)"
   ]
  },
  {
   "cell_type": "code",
   "execution_count": 14,
   "id": "435dc887",
   "metadata": {},
   "outputs": [
    {
     "data": {
      "text/plain": [
       "array([[1.14867558, 1.28549987, 2.13585067, 1.70780203, 0.88291409,\n",
       "        2.14288439, 2.0940898 ]])"
      ]
     },
     "execution_count": 14,
     "metadata": {},
     "output_type": "execute_result"
    }
   ],
   "source": [
    "dl2.forward(dl1.forward(np.array([1])))"
   ]
  }
 ],
 "metadata": {
  "kernelspec": {
   "display_name": "machine-learning",
   "language": "python",
   "name": "machine-learning"
  },
  "language_info": {
   "codemirror_mode": {
    "name": "ipython",
    "version": 3
   },
   "file_extension": ".py",
   "mimetype": "text/x-python",
   "name": "python",
   "nbconvert_exporter": "python",
   "pygments_lexer": "ipython3",
   "version": "3.9.12"
  }
 },
 "nbformat": 4,
 "nbformat_minor": 5
}
