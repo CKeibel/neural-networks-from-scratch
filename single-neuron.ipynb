{
 "cells": [
  {
   "cell_type": "code",
   "execution_count": 1,
   "id": "0f147bc9",
   "metadata": {},
   "outputs": [],
   "source": [
    "import numpy as np"
   ]
  },
  {
   "cell_type": "markdown",
   "id": "4307672e",
   "metadata": {},
   "source": [
    "# Single Neuron"
   ]
  },
  {
   "cell_type": "code",
   "execution_count": 2,
   "id": "fd97f5e4",
   "metadata": {},
   "outputs": [],
   "source": [
    "class Neuron:\n",
    "    def __init__(self, inputs:int, bias:float = 0):\n",
    "        self.weights = np.random.rand(1, inputs) # [neurons, inputs]\n",
    "        self.bias = bias\n",
    "        \n",
    "    \n",
    "    def forward(self, inputs:np.array) -> float:\n",
    "        return np.dot(self.weights, inputs.T) + self.bias"
   ]
  },
  {
   "cell_type": "code",
   "execution_count": 3,
   "id": "1cbd119b",
   "metadata": {},
   "outputs": [
    {
     "data": {
      "text/plain": [
       "array([[0.83316687, 0.41475546, 0.56583603, 0.82153708]])"
      ]
     },
     "execution_count": 3,
     "metadata": {},
     "output_type": "execute_result"
    }
   ],
   "source": [
    "n = Neuron(4)\n",
    "n.weights"
   ]
  },
  {
   "cell_type": "code",
   "execution_count": 4,
   "id": "79cc125d",
   "metadata": {},
   "outputs": [
    {
     "data": {
      "text/plain": [
       "array([[[-1.2839821 ,  1.56771619,  0.89286408,  0.3992291 ]],\n",
       "\n",
       "       [[-0.18099342,  0.40078305, -1.55762218,  0.32396246]],\n",
       "\n",
       "       [[ 0.47465952,  1.14372322, -0.17001191, -0.91126648]],\n",
       "\n",
       "       [[-2.16028812,  0.41696223, -0.24489274,  0.25982688]],\n",
       "\n",
       "       [[ 0.67822576, -0.74617828,  0.10511955, -1.90717459]]])"
      ]
     },
     "execution_count": 4,
     "metadata": {},
     "output_type": "execute_result"
    }
   ],
   "source": [
    "data = np.random.randn(5, 1, 4)\n",
    "data"
   ]
  },
  {
   "cell_type": "code",
   "execution_count": 5,
   "id": "9636618d",
   "metadata": {},
   "outputs": [
    {
     "name": "stdout",
     "output_type": "stream",
     "text": [
      "1 - [[0.41364367]]\n",
      "2 - [[-0.59978234]]\n",
      "3 - [[0.02499796]]\n",
      "4 - [[-1.55205486]]\n",
      "5 - [[-1.25174049]]\n"
     ]
    }
   ],
   "source": [
    "for i, x in enumerate(data):\n",
    "    #print(f\"{i} - {data}\")\n",
    "    print(f\"{i+1} - {n.forward(x)}\")"
   ]
  },
  {
   "cell_type": "markdown",
   "id": "7ee4411f",
   "metadata": {},
   "source": [
    "# Layers"
   ]
  },
  {
   "cell_type": "code",
   "execution_count": 6,
   "id": "0c3d8fc9",
   "metadata": {},
   "outputs": [],
   "source": [
    "class DenseLayer:\n",
    "    def __init__(self, inputs:int, outputs:int, bias:float = 0):\n",
    "        self.weights = np.random.rand(inputs, outputs)"
   ]
  }
 ],
 "metadata": {
  "kernelspec": {
   "display_name": "machine-learning",
   "language": "python",
   "name": "machine-learning"
  },
  "language_info": {
   "codemirror_mode": {
    "name": "ipython",
    "version": 3
   },
   "file_extension": ".py",
   "mimetype": "text/x-python",
   "name": "python",
   "nbconvert_exporter": "python",
   "pygments_lexer": "ipython3",
   "version": "3.9.12"
  }
 },
 "nbformat": 4,
 "nbformat_minor": 5
}
