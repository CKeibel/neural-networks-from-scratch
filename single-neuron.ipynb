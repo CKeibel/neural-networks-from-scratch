{
 "cells": [
  {
   "cell_type": "code",
   "execution_count": 1,
   "id": "6cbd5902",
   "metadata": {},
   "outputs": [],
   "source": [
    "import numpy as np"
   ]
  },
  {
   "cell_type": "markdown",
   "id": "d019d736",
   "metadata": {},
   "source": [
    "# Single Neuron"
   ]
  },
  {
   "cell_type": "code",
   "execution_count": 2,
   "id": "b407cb0e",
   "metadata": {},
   "outputs": [],
   "source": [
    "class Neuron:\n",
    "    def __init__(self, inputs:int, bias:float = 0):\n",
    "        self.weights = np.random.rand(1, inputs) # [neurons, inputs]\n",
    "        self.bias = bias\n",
    "        \n",
    "    \n",
    "    def forward(self, inputs:np.array) -> float:\n",
    "        return np.dot(inputs, self.weights.T) + self.bias"
   ]
  },
  {
   "cell_type": "code",
   "execution_count": 3,
   "id": "e75a2b85",
   "metadata": {},
   "outputs": [
    {
     "data": {
      "text/plain": [
       "array([[0.34825776, 0.17254381, 0.07695452, 0.49965621]])"
      ]
     },
     "execution_count": 3,
     "metadata": {},
     "output_type": "execute_result"
    }
   ],
   "source": [
    "a = Neuron(4)\n",
    "a.weights"
   ]
  },
  {
   "cell_type": "code",
   "execution_count": 4,
   "id": "f027d874",
   "metadata": {},
   "outputs": [
    {
     "data": {
      "text/plain": [
       "array([[[-0.04390186, -0.25592931,  0.25318637, -0.5770173 ]],\n",
       "\n",
       "       [[ 0.00538622,  1.38898569,  1.91064076, -0.7483692 ]],\n",
       "\n",
       "       [[-0.30729821,  2.34454355,  0.24125917,  0.29484388]],\n",
       "\n",
       "       [[ 0.03718325, -1.37583941,  0.25252131,  0.42573952]],\n",
       "\n",
       "       [[-1.11881177, -1.1460509 ,  0.58887246, -1.06863938]]])"
      ]
     },
     "execution_count": 4,
     "metadata": {},
     "output_type": "execute_result"
    }
   ],
   "source": [
    "x = np.random.randn(5, 1, 4)\n",
    "x"
   ]
  },
  {
   "cell_type": "code",
   "execution_count": 5,
   "id": "13a32e07",
   "metadata": {},
   "outputs": [
    {
     "name": "stdout",
     "output_type": "stream",
     "text": [
      "1 - [[-0.32827463]]\n",
      "2 - [[0.0146418]]\n",
      "3 - [[0.46340405]]\n",
      "4 - [[0.00771283]]\n",
      "5 - [[-1.07601477]]\n"
     ]
    }
   ],
   "source": [
    "for i, data in enumerate(x):\n",
    "    #print(f\"{i} - {data}\")\n",
    "    print(f\"{i+1} - {a.forward(data)}\")"
   ]
  },
  {
   "cell_type": "markdown",
   "id": "19ee704e",
   "metadata": {},
   "source": [
    "# Layers"
   ]
  },
  {
   "cell_type": "code",
   "execution_count": 6,
   "id": "94d7974b",
   "metadata": {},
   "outputs": [
    {
     "ename": "SyntaxError",
     "evalue": "invalid syntax (2996589829.py, line 1)",
     "output_type": "error",
     "traceback": [
      "\u001b[0;36m  Input \u001b[0;32mIn [6]\u001b[0;36m\u001b[0m\n\u001b[0;31m    class DenseLayer(self, inputs:int, outputs:int bias:float = 0):\u001b[0m\n\u001b[0m                                 ^\u001b[0m\n\u001b[0;31mSyntaxError\u001b[0m\u001b[0;31m:\u001b[0m invalid syntax\n"
     ]
    }
   ],
   "source": [
    "class DenseLayer(self, inputs:int, outputs:int bias:float = 0):\n",
    "    self.weights = np.random.rand(inputs, outputs)"
   ]
  }
 ],
 "metadata": {
  "kernelspec": {
   "display_name": "machine-learning",
   "language": "python",
   "name": "machine-learning"
  },
  "language_info": {
   "codemirror_mode": {
    "name": "ipython",
    "version": 3
   },
   "file_extension": ".py",
   "mimetype": "text/x-python",
   "name": "python",
   "nbconvert_exporter": "python",
   "pygments_lexer": "ipython3",
   "version": "3.9.12"
  }
 },
 "nbformat": 4,
 "nbformat_minor": 5
}
