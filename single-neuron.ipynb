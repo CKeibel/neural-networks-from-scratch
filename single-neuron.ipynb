{
 "cells": [
  {
   "cell_type": "code",
   "execution_count": 1,
   "id": "ac7007b6",
   "metadata": {},
   "outputs": [],
   "source": [
    "import numpy as np"
   ]
  },
  {
   "cell_type": "markdown",
   "id": "fc3777e6",
   "metadata": {},
   "source": [
    "# Single Neuron"
   ]
  },
  {
   "cell_type": "code",
   "execution_count": 20,
   "id": "ba49242b",
   "metadata": {},
   "outputs": [],
   "source": [
    "class Neuron:\n",
    "    def __init__(self, inputs:int, bias:float = 0):\n",
    "        self.weights = np.random.rand(1, inputs) # [neurons, inputs]\n",
    "        self.bias = bias\n",
    "        \n",
    "    \n",
    "    def forward(self, inputs:np.array):\n",
    "        return inputs * self.weights + bias"
   ]
  },
  {
   "cell_type": "code",
   "execution_count": 22,
   "id": "e7729dc2",
   "metadata": {},
   "outputs": [
    {
     "data": {
      "text/plain": [
       "array([[0.19350621, 0.27936955, 0.86991591, 0.16989376]])"
      ]
     },
     "execution_count": 22,
     "metadata": {},
     "output_type": "execute_result"
    }
   ],
   "source": [
    "a = Neuron(4)\n",
    "a.weights"
   ]
  },
  {
   "cell_type": "code",
   "execution_count": 16,
   "id": "3e63ced7",
   "metadata": {},
   "outputs": [
    {
     "data": {
      "text/plain": [
       "array([[[ 0.44855759, -0.11727724,  1.49831421,  0.99733533]],\n",
       "\n",
       "       [[ 0.48054472,  0.50083395,  1.17840149,  1.54544821]],\n",
       "\n",
       "       [[-0.89733527,  0.38068959, -0.96168807, -0.92575251]],\n",
       "\n",
       "       [[ 0.18160284, -0.47698183,  0.01574355, -1.45608261]],\n",
       "\n",
       "       [[-0.81377527,  0.25642295,  0.91928659, -0.86461248]]])"
      ]
     },
     "execution_count": 16,
     "metadata": {},
     "output_type": "execute_result"
    }
   ],
   "source": [
    "x = np.random.randn(5, 1, 4)\n",
    "x"
   ]
  },
  {
   "cell_type": "code",
   "execution_count": 25,
   "id": "6261a745",
   "metadata": {},
   "outputs": [
    {
     "name": "stdout",
     "output_type": "stream",
     "text": [
      "1 - [[ 0.08679868 -0.03276369  1.30340737  0.16944105]]\n",
      "2 - [[0.09298839 0.13991775 1.02511021 0.26256201]]\n",
      "3 - [[-0.17363995  0.10635308 -0.83658776 -0.15727958]]\n",
      "4 - [[ 0.03514128 -0.1332542   0.01369556 -0.24737935]]\n",
      "5 - [[-0.15747057  0.07163676  0.79970203 -0.14689227]]\n"
     ]
    }
   ],
   "source": [
    "for i, data in enumerate(x):\n",
    "    #print(f\"{i} - {data}\")\n",
    "    print(f\"{i+1} - {a.forward(data)}\")"
   ]
  },
  {
   "cell_type": "markdown",
   "id": "47aa4e7f",
   "metadata": {},
   "source": [
    "# Layers"
   ]
  },
  {
   "cell_type": "code",
   "execution_count": null,
   "id": "5023b47c",
   "metadata": {},
   "outputs": [],
   "source": [
    "class DenseLayer(self, inputs:int, outputs:int bias:float = 0):\n",
    "    self.weights = np.random.rand(inputs, outputs)"
   ]
  }
 ],
 "metadata": {
  "kernelspec": {
   "display_name": "machine-learning",
   "language": "python",
   "name": "machine-learning"
  },
  "language_info": {
   "codemirror_mode": {
    "name": "ipython",
    "version": 3
   },
   "file_extension": ".py",
   "mimetype": "text/x-python",
   "name": "python",
   "nbconvert_exporter": "python",
   "pygments_lexer": "ipython3",
   "version": "3.9.12"
  }
 },
 "nbformat": 4,
 "nbformat_minor": 5
}
